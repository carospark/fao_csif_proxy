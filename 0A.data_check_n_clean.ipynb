{
 "cells": [
  {
   "cell_type": "code",
   "execution_count": 2,
   "id": "834414a8",
   "metadata": {},
   "outputs": [],
   "source": [
    "import sys\n",
    "import pandas as pd\n",
    "import os\n",
    "import seaborn as sns\n",
    "import xarray as xr\n",
    "import numpy as np\n",
    "from sklearn.linear_model import LinearRegression\n",
    "import matplotlib.pyplot as plt\n",
    "import datetime\n",
    "from datetime import datetime\n",
    "from datetime import date\n",
    "import re\n",
    "import netCDF4 as nc\n",
    "from scipy import stats"
   ]
  },
  {
   "cell_type": "markdown",
   "id": "094e0dac",
   "metadata": {},
   "source": [
    "# open all the files "
   ]
  },
  {
   "cell_type": "code",
   "execution_count": 3,
   "id": "6b35e4d0",
   "metadata": {},
   "outputs": [],
   "source": [
    "import glob\n",
    "mylist = [f for f in glob.glob(\"/Users/caropark/Dropbox (Harvard University)/DataByCountry/*\")]\n",
    "mylist.remove('/Users/caropark/Dropbox (Harvard University)/DataByCountry/Icon\\r')"
   ]
  },
  {
   "cell_type": "code",
   "execution_count": 11,
   "id": "6ce972b4",
   "metadata": {},
   "outputs": [],
   "source": [
    "start = '/Users/caropark/Dropbox (Harvard University)/DataByCountry/'\n",
    "end_fao = '/fao_data.nc'\n",
    "end_cal = '/crop_calendar_data_sage.nc'\n",
    "end_sif = '/csif_data.nc'\n",
    "end_harvarea = \"/harvest_area_fraction_data_sage_all.nc\""
   ]
  },
  {
   "cell_type": "code",
   "execution_count": 4,
   "id": "8f9eabb9",
   "metadata": {},
   "outputs": [],
   "source": [
    "myends = [\"end_cal\", \"end_sif\", \"end_harvarea\"]      \n",
    "\n",
    "remove=[]\n",
    "\n",
    "for i in mylist: \n",
    "    for end in myends:        \n",
    "        if os.path.isfile(str(i) + eval(end)):\n",
    "            pass\n",
    "        else:         #            print(end, i)        \n",
    "            remove.append(i)\n",
    "            remove = [*set(remove)]"
   ]
  },
  {
   "cell_type": "code",
   "execution_count": 5,
   "id": "1993175a",
   "metadata": {},
   "outputs": [
    {
     "name": "stdout",
     "output_type": "stream",
     "text": [
      "safely removed countries w.o fao/sif/gfsad data: True \n",
      "\n"
     ]
    }
   ],
   "source": [
    "mylist_cleaned = set(mylist).difference(set(remove))\n",
    "\n",
    "print(\"safely removed countries w.o fao/sif/mask data:\",  len(mylist_cleaned) + len(remove)== len(mylist), \"\\n\")"
   ]
  },
  {
   "cell_type": "code",
   "execution_count": 38,
   "id": "c172a7c2",
   "metadata": {},
   "outputs": [],
   "source": [
    "remove = []\n",
    "\n",
    "for i in mylist_cleaned:\n",
    "    harvarea = xr.open_dataset(str(i)+end_harvarea)['harvest_area_frac_nearest']\n",
    "    counts = harvarea.where(harvarea>0).groupby('crop').count(...)\n",
    "    counts = counts.where(counts>0, drop=True)['crop'].values\n",
    "    \n",
    "    calendar = xr.open_dataset(str(i)+end_cal)['plant']\n",
    "    \n",
    "    if counts.size==0 or np.sum(calendar.values)==0:\n",
    "        print(\"List is empty:\", i)\n",
    "        remove.append(i)\n",
    "        remove = [*set(remove)]"
   ]
  },
  {
   "cell_type": "code",
   "execution_count": 11,
   "id": "2678bfe6",
   "metadata": {
    "scrolled": true
   },
   "outputs": [
    {
     "name": "stdout",
     "output_type": "stream",
     "text": [
      "safely removed countries w.o sage cal data: True \n",
      "\n"
     ]
    }
   ],
   "source": [
    "allcountries = list(set(mylist_cleaned).difference(set(remove)))\n",
    "print(\"output: allcountries\")"
   ]
  }
 ],
 "metadata": {
  "kernelspec": {
   "display_name": "Python 3 (ipykernel)",
   "language": "python",
   "name": "python3"
  },
  "language_info": {
   "codemirror_mode": {
    "name": "ipython",
    "version": 3
   },
   "file_extension": ".py",
   "mimetype": "text/x-python",
   "name": "python",
   "nbconvert_exporter": "python",
   "pygments_lexer": "ipython3",
   "version": "3.9.7"
  }
 },
 "nbformat": 4,
 "nbformat_minor": 5
}
