{
 "cells": [
  {
   "cell_type": "code",
   "execution_count": 1,
   "id": "dd02e925-d530-40b9-ac93-15bd09a4b362",
   "metadata": {},
   "outputs": [],
   "source": [
    "import glob\n",
    "import netCDF4 as nc\n",
    "import numpy as np\n",
    "from rapidfuzz import process\n",
    "import pandas as pd\n",
    "import re\n",
    "import xarray as xr\n",
    "import geopandas as gpd\n",
    "from functools import reduce\n",
    "pd.set_option('display.max_rows', 200)"
   ]
  },
  {
   "cell_type": "markdown",
   "id": "e95bd731-8063-4a8d-b885-ae5b3fd1602a",
   "metadata": {},
   "source": [
    "# crop indices"
   ]
  },
  {
   "cell_type": "code",
   "execution_count": 2,
   "id": "df2f4f0f-5f21-45fb-935d-932a6b3081d1",
   "metadata": {},
   "outputs": [],
   "source": [
    "i= '/Users/caropark/Dropbox (Harvard University)/DataByCountry/Portugal'\n",
    "end_fao = '/fao_data.nc'\n",
    "end_cal = '/crop_calendar_data_sage.nc'\n",
    "\n",
    "fao = nc.Dataset(str(i)+end_fao)\n",
    "crops = np.transpose(fao['crop']).tobytes()\n",
    "blob = re.findall('[A-Z][^A-Z]*',  crops.decode('latin-1'))\n",
    "fao_key = pd.DataFrame({\"crop\": blob}).reset_index().rename({\"index\": \"fao_idx\", \"crop\": \"cropname\"}, axis=1)\n",
    "fao_key = fao_key.applymap(lambda x: x.strip() if isinstance(x, str) else x)\n",
    "\n",
    "end1 = \"/harvest_area_fraction_data_sage_all.nc\"\n",
    "area = xr.open_dataset(str(i)+end1)\n",
    "crops2 = np.transpose(area['crop_FAO'].values).tobytes()\n",
    "blob = re.findall('[A-Z][^A-Z]*',  crops2.decode('latin-1'))\n",
    "area_key = pd.DataFrame({\"crop\": blob}).reset_index().rename({\"index\": \"harv_area_idx\", \"crop\": \"cropname\"}, axis=1)\n",
    "area_key = area_key.applymap(lambda x: x.strip() if isinstance(x, str) else x)\n",
    "\n",
    "calendar = xr.open_dataset(str(i)+end_cal)\n",
    "crops2 = np.transpose(xr.open_dataset(str(i)+end_cal)['crop_FAO'].values).tobytes()\n",
    "blob = re.findall('[A-Z][^A-Z]*',  crops2.decode('latin-1'))\n",
    "cal_key = pd.DataFrame({\"crop\": blob}).reset_index().rename({\"index\": \"crop\",  \"crop\": \"cropname\"}, axis=1)\n",
    "cal_key = cal_key.applymap(lambda x: x.strip() if isinstance(x, str) else x)\n",
    "\n",
    "df = fao_key.merge(area_key, how=\"left\")\n",
    "\n",
    "cal_key.loc[cal_key['cropname']==\"Cotton\", 'cropname'] = \"Seed cotton\"\n",
    "cal_key.loc[cal_key['cropname']==\"Oat\", 'cropname'] = \"Oats\"\n",
    "cal_key.loc[cal_key['cropname']==\"Pulses\", 'cropname'] = \"Pulses nes\"\n",
    "cal_key.loc[cal_key['cropname']==\"Sugarbeets\", 'cropname'] = \"Sugar beet\"\n",
    "cal_key.loc[cal_key['cropname']==\"Sunflower\", 'cropname'] = \"Sunflower seed\"\n",
    "\n",
    "df= df.merge(cal_key, how=\"left\").dropna().reset_index()\n",
    "df = cal_key.merge(df, how=\"left\")\n",
    "#df.to_pickle(\"./data/calendar_fao_cropkey.pkl\")"
   ]
  },
  {
   "cell_type": "markdown",
   "id": "fbbfaca6-e497-4bcc-85e4-f8d1215951b9",
   "metadata": {},
   "source": [
    "# country names"
   ]
  },
  {
   "cell_type": "code",
   "execution_count": 34,
   "id": "b17c9ee6-d8f3-4103-8e5e-ddcd1186f3fc",
   "metadata": {
    "scrolled": true
   },
   "outputs": [],
   "source": [
    "mylist = [f for f in glob.glob(\"/Users/caropark/Dropbox (Harvard University)/DataByCountry/*\")]\n",
    "angela_names = pd.DataFrame({'country': np.unique([path.rsplit('/', 1)[1] for path in mylist])})\n",
    "\n",
    "flags = pd.read_csv(\"./data/faostat_all_flags.csv\")\n",
    "fao_names = pd.DataFrame(np.unique(flags['Area']))\n",
    "\n",
    "countries = gpd.read_file(gpd.datasets.get_path(\"naturalearth_lowres\"))\n",
    "lowres_names = pd.DataFrame(np.unique(countries['name']))\n",
    "\n",
    "inc_class = pd.read_csv(\"./data/wb_classification.csv\", index_col=None)\n",
    "inc_class['country']=inc_class['country'].astype(str)\n",
    "wb_names = pd.DataFrame(np.unique(inc_class['country']))"
   ]
  },
  {
   "cell_type": "code",
   "execution_count": 35,
   "id": "9d78a03f-33a1-4ed2-a0b3-10fa9d9c02d5",
   "metadata": {},
   "outputs": [],
   "source": [
    "def find_best_matches(df1, df2, df2_name, top_n):\n",
    "    matches = []\n",
    "    df1_column = df1.iloc[:, 0]\n",
    "    df2_column = df2.iloc[:, 0]\n",
    "    \n",
    "    for country in df1_column:\n",
    "        results = process.extract(country, df2_column, limit=top_n)\n",
    "        \n",
    "        if any(score == 100 for _, score, _ in results):\n",
    "            best_match = next((match for match, score, _ in results if score == 100), None)\n",
    "            matches.append((country, best_match, 100))\n",
    "        \n",
    "        else:\n",
    "            filtered_results = [(country, match, score) for match, score, _ in results if score > 60]\n",
    "            \n",
    "            if filtered_results: \n",
    "                matches.extend(filtered_results)\n",
    "            else:  \n",
    "                matches.append((country, None, None))\n",
    "        \n",
    "    return pd.DataFrame(matches, columns=['country', df2_name, 'sim_score'])\n"
   ]
  },
  {
   "cell_type": "code",
   "execution_count": 36,
   "id": "ef200a34-991c-4245-acce-8359845df653",
   "metadata": {},
   "outputs": [],
   "source": [
    "matches_100list = list()\n",
    "matches_n100list = list()\n",
    "\n",
    "dataframes = {'fao': fao_names, 'lowres': lowres_names, 'wb': wb_names}\n",
    "\n",
    "for name, df in dataframes.items():\n",
    "    matches = find_best_matches(angela_names, df, name, top_n=3)\n",
    "    m100 = matches[matches['sim_score']==100].drop(columns=\"sim_score\")\n",
    "    mn100 = matches[matches['sim_score']<100]\n",
    "    matches_100list.append(m100)\n",
    "    matches_n100list.append(mn100)\n"
   ]
  },
  {
   "cell_type": "code",
   "execution_count": 37,
   "id": "7e6cb4dc-926b-4037-85a6-a9d640ec0fc1",
   "metadata": {},
   "outputs": [],
   "source": [
    "country_key = reduce(lambda x, y: pd.merge(x, y, on = 'country', how=\"outer\"), matches_100list)\n",
    "country_key = pd.merge(angela_names, country_key, on=\"country\", how=\"left\").reset_index(drop=True)"
   ]
  },
  {
   "cell_type": "code",
   "execution_count": 38,
   "id": "3ea76b0e-59ea-4737-a110-8f865002e8c5",
   "metadata": {},
   "outputs": [],
   "source": [
    "keep_fao= matches_n100list[0].reset_index(drop=True).iloc[[3,4,14,17, 21], 0:2]\n",
    "\n",
    "keep_lowres= matches_n100list[1].reset_index(drop=True).iloc[[7,10,13,19,28, 30,37,38,41,47,50,52,67,92,93,95,108,111,115,117,119,127,129,132,135], 0:2]\n",
    "\n",
    "keep_wb = matches_n100list[2].reset_index(drop=True).iloc[[0,2,5,9,14,18,23,30,34,46,50,55,61,63,68,72,74,77,81,83,86,91,93,95,98,104,106], 0:2]"
   ]
  },
  {
   "cell_type": "code",
   "execution_count": 39,
   "id": "2c95a173-c075-4343-acdc-d3bd698d699d",
   "metadata": {
    "scrolled": true
   },
   "outputs": [],
   "source": [
    "merged_df = pd.merge(keep_fao, keep_lowres, on='country', how='outer')\n",
    "fixed = pd.merge(merged_df, keep_wb, on='country', how='outer')\n",
    "fixed = pd.merge(angela_names, fixed, on=\"country\", how=\"left\").reset_index(drop=True)"
   ]
  },
  {
   "cell_type": "code",
   "execution_count": 40,
   "id": "8ed660c0-faea-4aac-92ce-97fd75f24342",
   "metadata": {},
   "outputs": [],
   "source": [
    "country_key = country_key.combine_first(fixed)"
   ]
  },
  {
   "cell_type": "code",
   "execution_count": 41,
   "id": "2ac26ceb-dd41-4185-afc5-680b7f749303",
   "metadata": {},
   "outputs": [],
   "source": [
    "fixagain= country_key[country_key.isna().any(axis=1)].reset_index(drop=True)"
   ]
  },
  {
   "cell_type": "code",
   "execution_count": 42,
   "id": "273ad991-256b-46d3-8e46-f6c27bae3583",
   "metadata": {},
   "outputs": [],
   "source": [
    "fixed2 = pd.DataFrame({'country': [\"Lao People's Democratic Republic\", \"China, Taiwan Province of\", \"Democratic Republic of the Congo\", \"Democratic People's Republic of Korea\", \"Iran (Islamic Republic of)\", \"Venezuela (Bolivarian Republic of)\"],\n",
    "                      'lowres': [\"Laos\", np.nan, np.nan, np.nan, np.nan, np.nan],\n",
    "                      'wb': [np.nan, \"Taiwan, China\", \"Congo, Dem. Rep.\", \"Korea, Dem. People's Rep.\", \"Iran, Islamic Rep.\", \"Venezuela, RB\"]})\n",
    "fixed2 = pd.merge(angela_names, fixed2, on='country', how=\"left\").reset_index(drop=True)"
   ]
  },
  {
   "cell_type": "code",
   "execution_count": 43,
   "id": "40cafbdf-04f7-42b2-9136-679cbf47e1ad",
   "metadata": {},
   "outputs": [],
   "source": [
    "country_key = country_key.combine_first(fixed2)"
   ]
  },
  {
   "cell_type": "code",
   "execution_count": 44,
   "id": "9a5534be-f8c3-4cb6-9885-b802cff73781",
   "metadata": {},
   "outputs": [],
   "source": [
    "isos = flags[['Area', 'Area Code (ISO3)']].drop_duplicates()\n",
    "isos.columns=['fao', 'iso_a3']\n",
    "country_key = country_key.merge(isos, how=\"left\", on=\"fao\")"
   ]
  },
  {
   "cell_type": "code",
   "execution_count": 45,
   "id": "29f67d96-0a87-424a-a141-a1879a3e9fd9",
   "metadata": {},
   "outputs": [],
   "source": [
    "country_key.to_csv(\"./data/country_key.csv\", index=False)"
   ]
  }
 ],
 "metadata": {
  "kernelspec": {
   "display_name": "Python 3 (ipykernel)",
   "language": "python",
   "name": "python3"
  },
  "language_info": {
   "codemirror_mode": {
    "name": "ipython",
    "version": 3
   },
   "file_extension": ".py",
   "mimetype": "text/x-python",
   "name": "python",
   "nbconvert_exporter": "python",
   "pygments_lexer": "ipython3",
   "version": "3.9.7"
  }
 },
 "nbformat": 4,
 "nbformat_minor": 5
}
